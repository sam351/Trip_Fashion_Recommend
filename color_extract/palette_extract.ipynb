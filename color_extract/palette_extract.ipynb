{
 "cells": [
  {
   "cell_type": "code",
   "execution_count": 1,
   "metadata": {},
   "outputs": [
    {
     "name": "stderr",
     "output_type": "stream",
     "text": [
      "Using TensorFlow backend.\n"
     ]
    }
   ],
   "source": [
    "import cv2\n",
    "import matplotlib.pyplot as plt\n",
    "import cvlib as cv\n",
    "from cvlib.object_detection import draw_bbox\n",
    "\n",
    "import numpy as np\n",
    "from sklearn.cluster import KMeans\n",
    "from collections import Counter\n",
    "import json\n",
    "\n",
    "\n",
    "# 1\n",
    "def load_image(file_path):\n",
    "    img = cv2.imread(file_path)\n",
    "    img = cv2.cvtColor(img, cv2.COLOR_BGR2RGB)\n",
    "    return img\n",
    "\n",
    "\n",
    "# 2\n",
    "def detect_person(img):\n",
    "    bbox, label, conf = cv.detect_common_objects(img)\n",
    "    \n",
    "    if label.count('person') > 1:   # Exceptional case : 2 or more persons are detected\n",
    "        print('>>> Warning : More than 1 person is detected from the given picture!')\n",
    "        idx = label.index('person')\n",
    "        bbox = [bbox[idx]]\n",
    "        label = [label[idx]]\n",
    "        conf = [conf[idx]]\n",
    "    elif label.count('person') == 1:   # Ideal case : only one main preson is detected\n",
    "        idx = label.index('person')\n",
    "        bbox = [bbox[idx]]\n",
    "        label = [label[idx]]\n",
    "        conf = [conf[idx]]\n",
    "    else:   # Exceptional case : No person is detected\n",
    "        print('>>> Warning : No person is detected from the given picture!')\n",
    "        output_image = draw_bbox(img, bbox, label, conf)\n",
    "        plt.imshow(output_image)\n",
    "        plt.show()\n",
    "    return bbox, label, conf\n",
    "\n",
    "\n",
    "\n",
    "\n",
    "# 1. Load image\n",
    "file_path = '../data/pictures_thecatwilliams/thecatwilliams_004_502Likes.png'\n",
    "load_image(file_path)\n",
    "\n",
    "# 2. Detect the object 'person' from image\n",
    "bbox, label, conf = detect_person(img)"
   ]
  },
  {
   "cell_type": "code",
   "execution_count": 4,
   "metadata": {},
   "outputs": [
    {
     "data": {
      "text/plain": [
       "1"
      ]
     },
     "execution_count": 4,
     "metadata": {},
     "output_type": "execute_result"
    }
   ],
   "source": [
    "a = [1,2,3]\n",
    "a.count(3)"
   ]
  },
  {
   "cell_type": "code",
   "execution_count": null,
   "metadata": {},
   "outputs": [],
   "source": []
  }
 ],
 "metadata": {
  "kernelspec": {
   "display_name": "Python 3",
   "language": "python",
   "name": "python3"
  },
  "language_info": {
   "codemirror_mode": {
    "name": "ipython",
    "version": 3
   },
   "file_extension": ".py",
   "mimetype": "text/x-python",
   "name": "python",
   "nbconvert_exporter": "python",
   "pygments_lexer": "ipython3",
   "version": "3.7.6"
  }
 },
 "nbformat": 4,
 "nbformat_minor": 4
}
